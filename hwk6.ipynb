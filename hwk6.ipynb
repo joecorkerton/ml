{
 "cells": [
  {
   "cell_type": "markdown",
   "metadata": {},
   "source": [
    "# Regularization with Weight Decay"
   ]
  },
  {
   "cell_type": "code",
   "execution_count": 56,
   "metadata": {
    "collapsed": true
   },
   "outputs": [],
   "source": [
    "import numpy as np\n",
    "import pandas as pd\n",
    "from __future__ import division"
   ]
  },
  {
   "cell_type": "code",
   "execution_count": 69,
   "metadata": {
    "collapsed": false
   },
   "outputs": [
    {
     "name": "stdout",
     "output_type": "stream",
     "text": [
      "In sample error: 0.0285714285714\n",
      "Out of sample error: 0.084\n"
     ]
    }
   ],
   "source": [
    "# Load training and testing data\n",
    "train = pd.read_csv('in_dta.txt', delim_whitespace=True, header=None, names=['x1', 'x2', 'y'])\n",
    "test = pd.read_csv('out_dta.txt', delim_whitespace=True, header=None, names=['x1', 'x2', 'y'])\n",
    "\n",
    "def transform(data):\n",
    "    \"\"\"Transform the data so we can apply regression to a non linear function.\n",
    "    phi = 1, x1, x2, x1^2, x2^2, x1x2, |x1 − x2|, |x1 + x2|)\n",
    "    \"\"\"\n",
    "    data.loc[:, 'x0'] = pd.Series(1, index=data.index)\n",
    "    data.loc[:, 'x3'] = data.x1.map(lambda x: x**2)\n",
    "    data.loc[:, 'x4'] = data.x2.map(lambda x: x**2)\n",
    "    data.loc[:, 'x5'] = data.x1 * data.x2\n",
    "    data.loc[:, 'x6'] = (data.x1 - data.x2).map(lambda x: np.abs(x))\n",
    "    data.loc[:, 'x7'] = (data.x1 + data.x2).map(lambda x: np.abs(x))\n",
    "    # Sort columns into the correct order\n",
    "    data = data.reindex_axis(sorted(data.columns), axis=1)\n",
    "    return data\n",
    "    \n",
    "def lin_regression(data):\n",
    "    \"\"\"Apply linear regression the dataset\n",
    "    w = (x^Tx)^-1 * x^T * y\"\"\"\n",
    "    x = np.matrix(data.drop(labels='y', axis=1).as_matrix())\n",
    "    y = np.matrix(data.y.as_matrix())\n",
    "    w = (x.T * x).I * x.T * y.T\n",
    "    return w\n",
    "\n",
    "def lin_regression_weights(data, k):\n",
    "    \"\"\"Apply linear regression with weight decay\"\"\"\n",
    "    x = np.matrix(data.drop(labels='y', axis=1).as_matrix())\n",
    "    y = np.matrix(data.y.as_matrix())\n",
    "    product = x.T * x\n",
    "    lambda_I = np.matrix((10**k) * np.identity(len(product)))\n",
    "    w = (product + lambda_I).I * x.T * y.T\n",
    "    return w\n",
    "\n",
    "def error(data, w):\n",
    "    \"\"\"Given transformed out of sample data and the weight vector, calculate the error between g and f \n",
    "    (use the proportion of misclassified points)\"\"\"\n",
    "    x = np.matrix(data.drop(labels='y', axis=1).as_matrix())\n",
    "    y = np.matrix(data.y.as_matrix()).T\n",
    "    y_predicted = x * w\n",
    "    count = 0\n",
    "    for i in range(len(y)):\n",
    "        if np.sign(y_predicted[i, 0]) != y[i, 0]:\n",
    "            count += 1\n",
    "    return count / len(y_predicted)\n",
    "\n",
    "# No weight decay\n",
    "train_t = transform(train)\n",
    "test_t = transform(test)\n",
    "w = lin_regression(train_t)\n",
    "print \"In sample error: {}\".format(error(train_t, w))\n",
    "print \"Out of sample error: {}\".format(error(test_t, w))"
   ]
  },
  {
   "cell_type": "code",
   "execution_count": 75,
   "metadata": {
    "collapsed": false
   },
   "outputs": [
    {
     "name": "stdout",
     "output_type": "stream",
     "text": [
      "In sample error: 0.0285714285714\n",
      "Out of sample error: 0.084\n"
     ]
    }
   ],
   "source": [
    "# With weight decay lambda = 10 ^ k\n",
    "w = lin_regression_weights(train_t, k=-2)\n",
    "print \"In sample error: {}\".format(error(train_t, w))\n",
    "print \"Out of sample error: {}\".format(error(test_t, w))"
   ]
  },
  {
   "cell_type": "code",
   "execution_count": 78,
   "metadata": {
    "collapsed": false
   },
   "outputs": [
    {
     "name": "stdout",
     "output_type": "stream",
     "text": [
      "(0.056, -1)\n"
     ]
    }
   ],
   "source": [
    "min = (100, 3)\n",
    "for i in range(-20, 20, 1):\n",
    "    w = lin_regression_weights(train_t, i)\n",
    "    e = error(test_t, w)\n",
    "    if e < min[0]:\n",
    "        min = (e, i)\n",
    "        \n",
    "print min"
   ]
  }
 ],
 "metadata": {
  "kernelspec": {
   "display_name": "Python [conda root]",
   "language": "python",
   "name": "conda-root-py"
  },
  "language_info": {
   "codemirror_mode": {
    "name": "ipython",
    "version": 2
   },
   "file_extension": ".py",
   "mimetype": "text/x-python",
   "name": "python",
   "nbconvert_exporter": "python",
   "pygments_lexer": "ipython2",
   "version": "2.7.12"
  }
 },
 "nbformat": 4,
 "nbformat_minor": 1
}
