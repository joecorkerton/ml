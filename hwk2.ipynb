{
 "cells": [
  {
   "cell_type": "markdown",
   "metadata": {},
   "source": [
    "# Linear Regression"
   ]
  },
  {
   "cell_type": "code",
   "execution_count": 24,
   "metadata": {
    "collapsed": true
   },
   "outputs": [],
   "source": [
    "import numpy as np\n",
    "import matplotlib.pyplot as plt\n",
    "from random import uniform,randint, random\n",
    "from __future__ import division"
   ]
  },
  {
   "cell_type": "code",
   "execution_count": 33,
   "metadata": {
    "collapsed": false
   },
   "outputs": [],
   "source": [
    "#Generates a random line in the square [-1,1], and returns the gradient and intercept\n",
    "def f ():\n",
    "    #Generate two random points in the square\n",
    "    (x1,y1) = (uniform(-1,1),uniform(-1,1))\n",
    "    (x2,y2) = (uniform(-1,1),uniform(-1,1))\n",
    "    \n",
    "    m = (y2 - y1) / (x2 - x1)\n",
    "    c = y1 - m * x1\n",
    "    \n",
    "    return (m, c)\n",
    "\n",
    "#Generate an array of n lists, containing a point in a square, uniformly distributed in [-1,1]\n",
    "def arrays(n):\n",
    "    if n == 0:\n",
    "        return np.array([])\n",
    "    ar = np.ones((n,3))\n",
    "    n -= 1\n",
    "    while n >= 0:\n",
    "        #x_0 = 1\n",
    "        ar[n] = [1, uniform(-1,1), uniform (-1,1)]\n",
    "        n-= 1\n",
    "    return np.matrix(ar)\n",
    "\n",
    "#for a given x and f, finds the values of y\n",
    "def yarray(x, (m, c), n):\n",
    "    ys = np.zeros((n, 1))\n",
    "    for i in range(len(x)):\n",
    "        if x[i, 2] > m * x [i, 1] + c:\n",
    "            ys[i] = 1\n",
    "        else:\n",
    "            ys[i] = -1\n",
    "    return np.matrix(ys)\n",
    "\n",
    "#Apply linear regression to the training data set to find g\n",
    "def g(x, y):\n",
    "    #w = (x^Tx)^-1 * x^T * y\n",
    "    w = (x.T * x).I * x.T * y\n",
    "    return w\n",
    "\n",
    "#Return the in sample error E_in\n",
    "def e_in (w, x, y):\n",
    "    count = 0\n",
    "    for i in range(len(x)):\n",
    "        if np.sign(np.dot(x[i], w)) != y[i]:\n",
    "            count += 1\n",
    "    \n",
    "    return count / len(x)\n",
    "\n",
    "#Apply PLA algorithm, given an initial weight vector w\n",
    "def PLA (w, x, y):\n",
    "    #number of iterations\n",
    "    n = 0\n",
    "    while n < 1E6:\n",
    "        #create a list of misclassified points\n",
    "        misclass = []\n",
    "        #h(x) = sign(w^T.x)\n",
    "        for i in range(len(x)):\n",
    "            if np.sign(np.dot(x[i], w)) != y[i]:\n",
    "                misclass.append(i)\n",
    "        n += 1\n",
    "        #if misclass is empty, we have converged on g\n",
    "        if not misclass:\n",
    "            break\n",
    "        #randomly choose a misclassified point to use to update w\n",
    "        r = randint(0, len(misclass) - 1)\n",
    "        #multiply x_i vector by y_i\n",
    "        adj = np.array(x[misclass[r]]) * np.array(y[misclass[r]])\n",
    "        #update w\n",
    "        w = w + adj.T\n",
    "    return n\n",
    "\n",
    "#f(x1,x2) = sign(x1^2 + x2^2 - 0.6)\n",
    "def nonlinear(x):\n",
    "    y = np.zeros((len(x), 1))\n",
    "    y = np.matrix(y)\n",
    "    for i in range(len(x)):\n",
    "        y[i] = np.sign(x[i,1]**2 + x[i,2]**2 - 0.6)\n",
    "        #Add random noise in 10% of data by flipping the sign\n",
    "        if random() < 0.1:\n",
    "            y[i] = -1 * y[i]\n",
    "    return y\n",
    "\n",
    "#Adds additional values to the x arrays so we can use regression on a 'linear' data set\n",
    "def transform(n):\n",
    "    if n == 0:\n",
    "        return np.array([])\n",
    "    ar = np.ones((n,6))\n",
    "    n -= 1\n",
    "    while n >= 0:\n",
    "        #x_0 = 1\n",
    "        x1 = uniform(-1,1)\n",
    "        x2 = uniform(-1,1)\n",
    "        ar[n] = [1, x1, x2, x1 * x2, x1**2, x2**2]\n",
    "        n-= 1\n",
    "    return np.matrix(ar)\n",
    "\n",
    "#Calculates y values, slightly more efficient as we already calculated x1^2 and x2^2\n",
    "def transformedlinear(x):\n",
    "    y = np.zeros((len(x), 1))\n",
    "    y = np.matrix(y)\n",
    "    for i in range(len(x)):\n",
    "        y[i] = np.sign(x[i,4] + x[i,5] - 0.6)\n",
    "        #Add random noise in 10% of data by flipping the sign\n",
    "        if random() < 0.1:\n",
    "            y[i] = -1 * y[i]\n",
    "    return y"
   ]
  },
  {
   "cell_type": "code",
   "execution_count": 76,
   "metadata": {
    "collapsed": false
   },
   "outputs": [
    {
     "name": "stdout",
     "output_type": "stream",
     "text": [
      "0.03804\n"
     ]
    }
   ],
   "source": [
    "#Find average in sample error over 1000 runs\n",
    "N = 100\n",
    "repeat = 1000\n",
    "count = 0\n",
    "for i in range(repeat):\n",
    "    (m, c) = f()\n",
    "    x = arrays(N)\n",
    "    y = yarray(x, (m, c), N)\n",
    "    w = g(x, y)\n",
    "    E_in = e_in(w, x, y)\n",
    "    count += E_in\n",
    "print \"{}\".format(count / repeat)"
   ]
  },
  {
   "cell_type": "code",
   "execution_count": 56,
   "metadata": {
    "collapsed": false
   },
   "outputs": [
    {
     "name": "stdout",
     "output_type": "stream",
     "text": [
      "0.047969\n"
     ]
    }
   ],
   "source": [
    "#Find average out of sample error over 1000 runs\n",
    "N = 100\n",
    "repeat = 1000\n",
    "count = 0\n",
    "for i in range(repeat):\n",
    "    (m, c) = f()\n",
    "    x = arrays(N)\n",
    "    y = yarray(x, (m, c), N)\n",
    "    w = g(x, y)\n",
    "    outofsample = arrays(1000)\n",
    "    y_out = yarray(outofsample, (m, c), 1000)\n",
    "    for i in range(len(outofsample)):\n",
    "        if np.sign(np.dot(outofsample[i], w)) != y_out[i]:\n",
    "            count += 1\n",
    "print \"{}\".format(count / (repeat * 1000))"
   ]
  },
  {
   "cell_type": "code",
   "execution_count": 92,
   "metadata": {
    "collapsed": false
   },
   "outputs": [
    {
     "name": "stdout",
     "output_type": "stream",
     "text": [
      "5.404\n"
     ]
    }
   ],
   "source": [
    "#Use linear regression as starter for classification, and find average number of steps needed to converge using PLA\n",
    "#afterwards\n",
    "N = 10\n",
    "repeat = 1000\n",
    "count = 0\n",
    "for i in range(repeat):\n",
    "    (m, c) = f()\n",
    "    x = arrays(N)\n",
    "    y = yarray(x, (m, c), N)\n",
    "    w = g(x, y)\n",
    "    pla = PLA(w, x, y)\n",
    "    count += pla\n",
    "print \"{}\".format(count / repeat)"
   ]
  },
  {
   "cell_type": "code",
   "execution_count": 29,
   "metadata": {
    "collapsed": false
   },
   "outputs": [
    {
     "name": "stdout",
     "output_type": "stream",
     "text": [
      "0.504714\n"
     ]
    }
   ],
   "source": [
    "#Use linear regression to find classification for non linear input\n",
    "N = 1000\n",
    "repeat = 1000\n",
    "count = 0\n",
    "for i in range(repeat):\n",
    "    x = arrays(N)\n",
    "    y = nonlinear(x)\n",
    "    w = g(x, y)\n",
    "    E_in = e_in(w, x, y)\n",
    "    count += E_in\n",
    "print \"{}\".format(count / repeat)"
   ]
  },
  {
   "cell_type": "code",
   "execution_count": 40,
   "metadata": {
    "collapsed": false
   },
   "outputs": [
    {
     "name": "stdout",
     "output_type": "stream",
     "text": [
      "[[-0.99895963]\n",
      " [ 0.00336274]\n",
      " [-0.00655032]\n",
      " [-0.04116103]\n",
      " [ 1.55258916]\n",
      " [ 1.58883062]]\n"
     ]
    }
   ],
   "source": [
    "#Use linear regression to classify non linear input which is initially transformed\n",
    "N = 1000\n",
    "repeat = 10\n",
    "count = np.zeros((6, 1))\n",
    "for i in range(repeat):\n",
    "    x = transform(N)\n",
    "    y = transformedlinear(x)\n",
    "    w = g(x, y)\n",
    "    count = count + w\n",
    "print \"{}\".format(count / repeat)"
   ]
  },
  {
   "cell_type": "code",
   "execution_count": 44,
   "metadata": {
    "collapsed": false
   },
   "outputs": [
    {
     "name": "stdout",
     "output_type": "stream",
     "text": [
      "0.126328\n"
     ]
    }
   ],
   "source": [
    "#Use same method of transformation as before, but now estimate out of sample error\n",
    "N = 1000\n",
    "repeat = 1000\n",
    "count = 0\n",
    "for i in range(repeat):\n",
    "    x = transform(N)\n",
    "    y = transformedlinear(x)\n",
    "    w = g(x, y)\n",
    "    outofsample = transform(1000)\n",
    "    y_out = transformedlinear(outofsample)\n",
    "    for i in range(len(outofsample)):\n",
    "        if np.sign(np.dot(outofsample[i], w)) != y_out[i]:\n",
    "            count += 1\n",
    "print \"{}\".format(count / (1000 * repeat))"
   ]
  },
  {
   "cell_type": "code",
   "execution_count": null,
   "metadata": {
    "collapsed": true
   },
   "outputs": [],
   "source": []
  }
 ],
 "metadata": {
  "kernelspec": {
   "display_name": "Python 2",
   "language": "python",
   "name": "python2"
  },
  "language_info": {
   "codemirror_mode": {
    "name": "ipython",
    "version": 2
   },
   "file_extension": ".py",
   "mimetype": "text/x-python",
   "name": "python",
   "nbconvert_exporter": "python",
   "pygments_lexer": "ipython2",
   "version": "2.7.12"
  }
 },
 "nbformat": 4,
 "nbformat_minor": 1
}
