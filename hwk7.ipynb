{
 "cells": [
  {
   "cell_type": "markdown",
   "metadata": {},
   "source": [
    "# Validation"
   ]
  },
  {
   "execution_count": 33,
   "metadata": {
    "collapsed": false
   },
   "outputs": [],
   "cell_type": "code",
   "outputExpanded": false,
   "source": [
    "import numpy as np\n",
    "import pandas as pd\n",
    "from __future__ import division\n",
    "from random import uniform, randint\n",
    "from sklearn.svm import SVC\n",
    "from sklearn.linear_model import Perceptron\n"
   ]
  },
  {
   "cell_type": "code",
   "execution_count": 22,
   "metadata": {
    "collapsed": false
   },
   "source": [
    "# Load training and testing data\n",
    "train = pd.read_csv('~/ml/in_dta.txt', delim_whitespace=True, header=None, names=['x1', 'x2', 'y'])\n",
    "test = pd.read_csv('~/ml/out_dta.txt', delim_whitespace=True, header=None, names=['x1', 'x2', 'y'])\n",
    "\n",
    "def transform(data):\n",
    "    \"\"\"Transform the data so we can apply regression to a non linear function.\n",
    "    phi = 1, x1, x2, x1^2, x2^2, x1x2, |x1 − x2|, |x1 + x2|)\n",
    "    \"\"\"\n",
    "    data.loc[:, 'x0'] = pd.Series(1, index=data.index)\n",
    "    data.loc[:, 'x3'] = data.x1.map(lambda x: x**2)\n",
    "    data.loc[:, 'x4'] = data.x2.map(lambda x: x**2)\n",
    "    data.loc[:, 'x5'] = data.x1 * data.x2\n",
    "    data.loc[:, 'x6'] = (data.x1 - data.x2).map(lambda x: np.abs(x))\n",
    "    data.loc[:, 'x7'] = (data.x1 + data.x2).map(lambda x: np.abs(x))\n",
    "    # Sort columns into the correct order\n",
    "    data = data.reindex_axis(sorted(data.columns), axis=1)\n",
    "    return data\n",
    "    \n",
    "def lin_regression(data):\n",
    "    \"\"\"Apply linear regression the dataset\n",
    "    w = (x^Tx)^-1 * x^T * y\"\"\"\n",
    "    x = np.matrix(data.drop(labels='y', axis=1).as_matrix())\n",
    "    y = np.matrix(data.y.as_matrix())\n",
    "    w = (x.T * x).I * x.T * y.T\n",
    "    return w\n",
    "\n",
    "def lin_regression_weights(data, k):\n",
    "    \"\"\"Apply linear regression with weight decay\"\"\"\n",
    "    x = np.matrix(data.drop(labels='y', axis=1).as_matrix())\n",
    "    y = np.matrix(data.y.as_matrix())\n",
    "    product = x.T * x\n",
    "    lambda_I = np.matrix((10**k) * np.identity(len(product)))\n",
    "    w = (product + lambda_I).I * x.T * y.T\n",
    "    return w\n",
    "\n",
    "def error(data, w):\n",
    "    \"\"\"Given transformed out of sample data and the weight vector, calculate the error between g and f \n",
    "    (use the proportion of misclassified points)\"\"\"\n",
    "    x = np.matrix(data.drop(labels='y', axis=1).as_matrix())\n",
    "    y = np.matrix(data.y.as_matrix()).T\n",
    "    y_predicted = x * w\n",
    "    count = 0\n",
    "    for i in range(len(y)):\n",
    "        if np.sign(y_predicted[i, 0]) != y[i, 0]:\n",
    "            count += 1\n",
    "    return count / len(y_predicted)\n",
    "\n",
    "# split data into training data into training and validation\n",
    "#Evaluate error on validation set\n",
    "train_t = transform(train)\n",
    "val_t = train_t.tail(n=10)\n",
    "training = train_t.head(n=25)\n",
    "test_t = transform(test)\n",
    "best = (1000, -1)\n",
    "for k in range(3, 8):\n",
    "    Max = k + 1\n",
    "    data = training\n",
    "    validation = val_t\n",
    "    while Max < 8:\n",
    "        data = data.drop(labels='x{}'.format(Max), axis=1)\n",
    "        validation = validation.drop(labels='x{}'.format(Max), axis=1)\n",
    "        Max += 1\n",
    "    w = lin_regression(data)\n",
    "    e = error(validation, w)\n",
    "    print e\n",
    "    if e < best[0]:\n",
    "        best = (e, k)\n",
    "print best\n"
   ],
   "outputs": [
    {
     "text": [
      "0.3\n",
      "0.5\n",
      "0.2\n",
      "0.0\n",
      "0.1\n",
      "(0.0, 6)\n"
     ],
     "name": "stdout",
     "output_type": "stream"
    }
   ]
  },
  {
   "cell_type": "code",
   "execution_count": 23,
   "metadata": {
    "collapsed": false
   },
   "source": [
    "#Evaluate out of sample classification error\n",
    "train_t = transform(train)\n",
    "val_t = train_t.tail(n=10)\n",
    "training = train_t.head(n=25)\n",
    "test_t = transform(test)\n",
    "best = (1000, -1)\n",
    "for k in range(3, 8):\n",
    "    Max = k + 1\n",
    "    data = training\n",
    "    validation = test_t\n",
    "    while Max < 8:\n",
    "        data = data.drop(labels='x{}'.format(Max), axis=1)\n",
    "        validation = validation.drop(labels='x{}'.format(Max), axis=1)\n",
    "        Max += 1\n",
    "    w = lin_regression(data)\n",
    "    e = error(validation, w)\n",
    "    print e\n",
    "    if e < best[0]:\n",
    "        best = (e, k)\n",
    "print best"
   ],
   "outputs": [
    {
     "text": [
      "0.42\n",
      "0.416\n",
      "0.188\n",
      "0.084\n",
      "0.072\n",
      "(0.072, 7)\n"
     ],
     "name": "stdout",
     "output_type": "stream"
    }
   ]
  },
  {
   "cell_type": "code",
   "execution_count": 25,
   "metadata": {
    "collapsed": false
   },
   "source": [
    "#Train with the last 10 examples, validate with first 25\n",
    "train_t = transform(train)\n",
    "val_t = train_t.head(n=25)\n",
    "training = train_t.tail(n=10)\n",
    "test_t = transform(test)\n",
    "best = (1000, -1)\n",
    "for k in range(3, 8):\n",
    "    Max = k + 1\n",
    "    data = training\n",
    "    validation = val_t\n",
    "    while Max < 8:\n",
    "        data = data.drop(labels='x{}'.format(Max), axis=1)\n",
    "        validation = validation.drop(labels='x{}'.format(Max), axis=1)\n",
    "        Max += 1\n",
    "    w = lin_regression(data)\n",
    "    e = error(validation, w)\n",
    "    print e\n",
    "    if e < best[0]:\n",
    "        best = (e, k)\n",
    "print best"
   ],
   "outputs": [
    {
     "text": [
      "0.28\n",
      "0.36\n",
      "0.2\n",
      "0.08\n",
      "0.12\n",
      "(0.08, 6)\n"
     ],
     "name": "stdout",
     "output_type": "stream"
    }
   ]
  },
  {
   "cell_type": "code",
   "execution_count": 26,
   "metadata": {
    "collapsed": false
   },
   "source": [
    "#Evaluate again on out of sample \n",
    "train_t = transform(train)\n",
    "val_t = train_t.head(n=25)\n",
    "training = train_t.tail(n=10)\n",
    "test_t = transform(test)\n",
    "best = (1000, -1)\n",
    "for k in range(3, 8):\n",
    "    Max = k + 1\n",
    "    data = training\n",
    "    validation = test_t\n",
    "    while Max < 8:\n",
    "        data = data.drop(labels='x{}'.format(Max), axis=1)\n",
    "        validation = validation.drop(labels='x{}'.format(Max), axis=1)\n",
    "        Max += 1\n",
    "    w = lin_regression(data)\n",
    "    e = error(validation, w)\n",
    "    print e\n",
    "    if e < best[0]:\n",
    "        best = (e, k)\n",
    "print best"
   ],
   "outputs": [
    {
     "text": [
      "0.396\n",
      "0.388\n",
      "0.284\n",
      "0.192\n",
      "0.196\n",
      "(0.192, 6)\n"
     ],
     "name": "stdout",
     "output_type": "stream"
    }
   ]
  },
  {
   "cell_type": "markdown",
   "metadata": {},
   "source": [
    "# PLA vs SVM"
   ]
  },
  {
   "cell_type": "code",
   "execution_count": 94,
   "metadata": {
    "collapsed": false
   },
   "source": [
    "#Generates a random line in the square [-1,1], and returns the gradient and intercept\n",
    "def f ():\n",
    "    #Generate two random points in the square\n",
    "    (x1,y1) = (uniform(-1,1),uniform(-1,1))\n",
    "    (x2,y2) = (uniform(-1,1),uniform(-1,1))\n",
    "    \n",
    "    m = (y2 - y1) / (x2 - x1)\n",
    "    c = y1 - m * x1\n",
    "    \n",
    "    return (m, c)\n",
    "\n",
    "#Generate an array of n lists, containing a point in a square, uniformly distributed in [-1,1]\n",
    "def arrays(n):\n",
    "    if n == 0:\n",
    "        return np.array([])\n",
    "    ar = np.ones((n,3))\n",
    "    n -= 1\n",
    "    while n >= 0:\n",
    "        #x_0 = 1\n",
    "        ar[n] = [1, uniform(-1,1), uniform (-1,1)]\n",
    "        n-= 1\n",
    "    return ar\n",
    "\n",
    "#for a given x and f, finds the values of y\n",
    "def yarray(x, (m, c), n):\n",
    "    ys = np.zeros((n, 1))\n",
    "    for i in range(len(x)):\n",
    "        if x[i, 2] > m * x [i, 1] + c:\n",
    "            ys[i] = 1\n",
    "        else:\n",
    "            ys[i] = -1\n",
    "    return ys\n",
    "\n",
    "#Return the in sample error E_in\n",
    "def e_in (w, x, y):\n",
    "    count = 0\n",
    "    for i in range(len(x)):\n",
    "        if np.sign(np.dot(x[i], w)) != y[i]:\n",
    "            count += 1\n",
    "    \n",
    "    return count / len(x)\n",
    "\n",
    "#Apply PLA algorithm, given an initial weight vector w\n",
    "def PLA (w, x, y):\n",
    "    #number of iterations\n",
    "    n = 0\n",
    "    while n < 1E6:\n",
    "        #create a list of misclassified points\n",
    "        misclass = []\n",
    "        #h(x) = sign(w^T.x)\n",
    "        for i in range(len(x)):\n",
    "            if np.sign(np.dot(x[i], w)) != y[i]:\n",
    "                misclass.append(i)\n",
    "        n += 1\n",
    "        #if misclass is empty, we have converged on g\n",
    "        if not misclass:\n",
    "            break\n",
    "        #randomly choose a misclassified point to use to update w\n",
    "        r = randint(0, len(misclass) - 1)\n",
    "        #multiply x_i vector by y_i\n",
    "        adj = np.array(x[misclass[r]]) * np.array(y[misclass[r]])\n",
    "        #update w\n",
    "        w = w + adj.T\n",
    "    return w"
   ],
   "outputs": []
  },
  {
   "cell_type": "code",
   "execution_count": 120,
   "metadata": {
    "collapsed": false
   },
   "source": [
    "#Find average in sample error over 1000 runs\n",
    "N = 100\n",
    "repeat = 100\n",
    "count = 0\n",
    "for i in range(repeat):\n",
    "    (m, c) = f()\n",
    "    x = arrays(N)\n",
    "    y = yarray(x, (m, c), N)\n",
    "    # Check if all points have same classification, if so skip\n",
    "    Sum = np.sum(y)\n",
    "    if Sum == N or Sum == -N:\n",
    "        continue\n",
    "    w = PLA(np.zeros(3), x, y)\n",
    "    clf = SVC(C=np.inf, shrinking=False, kernel='poly')\n",
    "    clf.fit(x, y.reshape(-1, 1))\n",
    "    count += clf.n_support_[0]\n",
    "    # Generate test points\n",
    "    x_test = arrays(1000)\n",
    "    y_test = yarray(x_test, (m, c), 1000)\n",
    "    acc = clf.score(x_test, y_test)\n",
    "    E_pla = e_in(w, x_test, y_test)\n",
    "print \"{}\".format(count / repeat)"
   ],
   "outputs": [
    {
     "text": [
      "2.43\n"
     ],
     "name": "stdout",
     "output_type": "stream"
    }
   ]
  },
  {
   "cell_type": "code",
   "execution_count": null,
   "metadata": {
    "collapsed": false
   },
   "source": [
    "clf = SVC(c=np.inf)\n",
    "clf.fit()"
   ],
   "outputs": []
  }
 ],
 "nbformat": 4,
 "nbformat_minor": 0,
 "metadata": {
  "kernelspec": {
   "name": "python2",
   "language": "python",
   "display_name": "Python 2"
  },
  "kernel_info": {
   "name": "python2"
  },
  "language_info": {
   "mimetype": "text/x-python",
   "nbconvert_exporter": "python",
   "name": "python",
   "pygments_lexer": "ipython2",
   "version": "2.7.12",
   "file_extension": ".py",
   "codemirror_mode": {
    "version": 2,
    "name": "ipython"
   }
  }
 }
}